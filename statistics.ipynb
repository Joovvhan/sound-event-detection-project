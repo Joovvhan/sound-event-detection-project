{
 "cells": [
  {
   "cell_type": "code",
   "execution_count": null,
   "metadata": {},
   "outputs": [],
   "source": [
    "import os\n",
    "import glob\n",
    "import numpy as np\n",
    "import csv\n",
    "import librosa\n",
    "\n",
    "import matplotlib.pyplot as plt"
   ]
  },
  {
   "cell_type": "code",
   "execution_count": null,
   "metadata": {},
   "outputs": [],
   "source": [
    "train_class_instance_num_dict = dict()\n",
    "valid_class_instance_num_dict = dict()\n",
    "\n",
    "train_class_instance_len_dict = dict()\n",
    "valid_class_instance_len_dict = dict()\n",
    "\n",
    "\n",
    "def get_statistics(target):\n",
    "\n",
    "    class_instance_num_dict = dict()\n",
    "    class_instance_len_dict = dict()\n",
    "    \n",
    "    classes = os.listdir(target)\n",
    "    classes.sort()\n",
    "\n",
    "    for class_ in classes:\n",
    "        class_instance_num_dict[class_] = 0\n",
    "        class_instance_len_dict[class_] = []\n",
    "\n",
    "        wav_files = os.listdir(os.path.join(target, class_))\n",
    "\n",
    "        class_instance_num_dict[class_] = len(wav_files)\n",
    "\n",
    "        for wav_file in wav_files:\n",
    "            sec = librosa.get_duration(filename=target + '/' + class_ + '/' + wav_file)\n",
    "            class_instance_len_dict[class_].append(sec)\n",
    "\n",
    "\n",
    "    return class_instance_num_dict, class_instance_len_dict\n",
    "    "
   ]
  },
  {
   "cell_type": "code",
   "execution_count": null,
   "metadata": {},
   "outputs": [],
   "source": [
    "train_class_instance_num_dict, train_class_instance_len_dict = get_statistics('train')"
   ]
  },
  {
   "cell_type": "code",
   "execution_count": null,
   "metadata": {},
   "outputs": [],
   "source": [
    "valid_class_instance_num_dict, valid_class_instance_len_dict = get_statistics('valid')"
   ]
  },
  {
   "cell_type": "code",
   "execution_count": null,
   "metadata": {},
   "outputs": [],
   "source": [
    "plt.figure(figsize=(20, 4))\n",
    "key_list = list(train_class_instance_num_dict.keys())\n",
    "\n",
    "for i, key in enumerate(key_list):\n",
    "    key_list[i] = key.replace('_', '\\n').replace(' ', '\\n')\n",
    "\n",
    "fig = plt.bar(key_list, train_class_instance_num_dict.values(), 0.8, color='g')\n",
    "fig = plt.bar(key_list, valid_class_instance_num_dict.values(), 0.8, color='r')\n",
    "\n",
    "plt.show()"
   ]
  },
  {
   "cell_type": "code",
   "execution_count": null,
   "metadata": {},
   "outputs": [],
   "source": [
    "plt.figure(figsize=(20, 4))\n",
    "key_list = list(train_class_instance_num_dict.keys())\n",
    "\n",
    "for i, key in enumerate(key_list):\n",
    "    key_list[i] = key.replace('_', '\\n').replace(' ', '\\n')\n",
    "\n",
    "fig = plt.bar(key_list, list(map(np.sum, list(train_class_instance_len_dict.values()))), 0.8, color='g')\n",
    "fig = plt.bar(key_list, list(map(np.sum, list(valid_class_instance_len_dict.values()))), 0.8, color='r')\n",
    "\n",
    "plt.show()"
   ]
  },
  {
   "cell_type": "code",
   "execution_count": null,
   "metadata": {},
   "outputs": [],
   "source": [
    "total_file_len_list = list()\n",
    "\n",
    "for class_file_len_list in list(train_class_instance_len_dict.values()):\n",
    "    total_file_len_list += class_file_len_list\n",
    "    \n",
    "for class_file_len_listt in list(valid_class_instance_len_dict.values()):\n",
    "    total_file_len_list += class_file_len_list"
   ]
  },
  {
   "cell_type": "code",
   "execution_count": null,
   "metadata": {},
   "outputs": [],
   "source": [
    "plt.figure()\n",
    "plt.hist(total_file_len_list, bins=50)\n",
    "plt.show()"
   ]
  },
  {
   "cell_type": "code",
   "execution_count": null,
   "metadata": {},
   "outputs": [],
   "source": []
  }
 ],
 "metadata": {
  "kernelspec": {
   "display_name": "Python 3",
   "language": "python",
   "name": "python3"
  },
  "language_info": {
   "codemirror_mode": {
    "name": "ipython",
    "version": 3
   },
   "file_extension": ".py",
   "mimetype": "text/x-python",
   "name": "python",
   "nbconvert_exporter": "python",
   "pygments_lexer": "ipython3",
   "version": "3.7.5"
  }
 },
 "nbformat": 4,
 "nbformat_minor": 2
}
