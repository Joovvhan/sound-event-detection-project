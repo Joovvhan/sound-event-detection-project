{
 "cells": [
  {
   "cell_type": "code",
   "execution_count": 1,
   "metadata": {},
   "outputs": [],
   "source": [
    "import os\n",
    "import glob\n",
    "import numpy as np\n",
    "import csv\n",
    "import librosa\n",
    "\n",
    "import matplotlib.pyplot as plt"
   ]
  },
  {
   "cell_type": "code",
   "execution_count": 34,
   "metadata": {},
   "outputs": [],
   "source": [
    "def write_metadata(target):\n",
    "    \n",
    "    classes = os.listdir(target)\n",
    "    classes.sort()\n",
    "    \n",
    "    with open(target + '_metadata.csv', 'w') as file:\n",
    "        \n",
    "        csv_writer = csv.writer(file)\n",
    "\n",
    "        for class_ in classes:\n",
    "        \n",
    "            wav_files = os.listdir(os.path.join(target, class_))\n",
    "\n",
    "            for wav_file in wav_files:\n",
    "                file_name = target + '/' + class_ + '/' + wav_file\n",
    "                sec = librosa.get_duration(filename=file_name)\n",
    "\n",
    "                csv_writer.writerow([file_name, '{:06.3f}'.format(sec)])\n",
    "\n",
    "    return \n",
    "    "
   ]
  },
  {
   "cell_type": "code",
   "execution_count": 35,
   "metadata": {},
   "outputs": [],
   "source": [
    "write_metadata('train')"
   ]
  },
  {
   "cell_type": "code",
   "execution_count": 36,
   "metadata": {},
   "outputs": [],
   "source": [
    "write_metadata('valid')"
   ]
  }
 ],
 "metadata": {
  "kernelspec": {
   "display_name": "Python 3",
   "language": "python",
   "name": "python3"
  },
  "language_info": {
   "codemirror_mode": {
    "name": "ipython",
    "version": 3
   },
   "file_extension": ".py",
   "mimetype": "text/x-python",
   "name": "python",
   "nbconvert_exporter": "python",
   "pygments_lexer": "ipython3",
   "version": "3.7.5"
  }
 },
 "nbformat": 4,
 "nbformat_minor": 2
}
