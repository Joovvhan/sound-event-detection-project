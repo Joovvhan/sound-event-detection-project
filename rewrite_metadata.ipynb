{
 "cells": [
  {
   "cell_type": "code",
   "execution_count": null,
   "metadata": {},
   "outputs": [],
   "source": [
    "import os\n",
    "import glob\n",
    "import numpy as np\n",
    "import csv\n",
    "import librosa\n",
    "\n",
    "import matplotlib.pyplot as plt"
   ]
  },
  {
   "cell_type": "code",
   "execution_count": null,
   "metadata": {},
   "outputs": [],
   "source": [
    "train_metadata_path = '../data/train.txt'\n",
    "valid_metadata_path = '../data/valid.txt'"
   ]
  },
  {
   "cell_type": "code",
   "execution_count": null,
   "metadata": {
    "scrolled": false
   },
   "outputs": [],
   "source": [
    "train_file_list = list()\n",
    "valid_file_list = list()\n",
    "\n",
    "with open(train_metadata_path, 'r') as file:\n",
    "    with open('local_train.txt', 'w') as csvfile:\n",
    "        csv_writer = csv.writer(csvfile)\n",
    "\n",
    "        while True:\n",
    "            line = file.readline()\n",
    "\n",
    "            if line is None or len(line) == 0:\n",
    "                break\n",
    "\n",
    "            contents = line.split(',')\n",
    "            wav_file_path = contents[0]\n",
    "            \n",
    "            contents[2] = contents[2].strip()\n",
    "\n",
    "            new_wav_file_path = os.path.join('train', wav_file_path.split('/')[-1])\n",
    "            contents[0] = new_wav_file_path\n",
    "            \n",
    "            contents.pop(1)\n",
    "\n",
    "            csv_writer.writerow(contents)\n",
    "\n",
    "            \n",
    "with open(valid_metadata_path, 'r') as file:\n",
    "    with open('local_valid.txt', 'w') as csvfile:\n",
    "        csv_writer = csv.writer(csvfile)\n",
    "\n",
    "        while True:\n",
    "            line = file.readline()\n",
    "\n",
    "            if line is None or len(line) == 0:\n",
    "                break\n",
    "\n",
    "            contents = line.split(',')\n",
    "            wav_file_path = contents[0]\n",
    "            \n",
    "            contents[2] = contents[2].strip()\n",
    "\n",
    "            new_wav_file_path = os.path.join('valid', wav_file_path.split('/')[-1])\n",
    "            contents[0] = new_wav_file_path\n",
    "            \n",
    "            contents.pop(1)\n",
    "\n",
    "            csv_writer.writerow(contents)"
   ]
  },
  {
   "cell_type": "code",
   "execution_count": null,
   "metadata": {},
   "outputs": [],
   "source": [
    "local_train_metadata_path = 'local_train.txt'\n",
    "local_valid_metadata_path = 'local_valid.txt'\n",
    "\n",
    "def load_class_statistics(metadata_path):\n",
    "    \n",
    "    class_counter_dict = dict()\n",
    "    \n",
    "    with open(metadata_path, 'r') as file:\n",
    "\n",
    "        while True:\n",
    "            line = file.readline()\n",
    "\n",
    "            if line is None or len(line) == 0:\n",
    "                break\n",
    "\n",
    "            contents = line.split(',')\n",
    "            label_string = contents[1].strip()\n",
    "\n",
    "            labels = label_string.split('|')\n",
    "\n",
    "            for label in labels:\n",
    "                (start, end, class_name) = label.split('^')\n",
    "                if class_name not in class_counter_dict.keys():\n",
    "                    class_counter_dict[class_name] = 0\n",
    "                class_counter_dict[class_name] += 1\n",
    "                \n",
    "    return class_counter_dict"
   ]
  },
  {
   "cell_type": "code",
   "execution_count": null,
   "metadata": {},
   "outputs": [],
   "source": [
    "class_counter_train_dict = load_class_statistics(local_train_metadata_path)\n",
    "class_counter_train_dict_list = sorted(class_counter_train_dict.items())\n",
    "class_counter_train_dict = {pair[0]: pair[1] for pair in class_counter_train_dict_list}\n",
    "\n",
    "class_counter_valid_dict = load_class_statistics(local_valid_metadata_path)\n",
    "class_counter_valid_dict_list = sorted(class_counter_valid_dict.items())\n",
    "class_counter_valid_dict = {pair[0]: pair[1] for pair in class_counter_valid_dict_list}\n"
   ]
  },
  {
   "cell_type": "code",
   "execution_count": null,
   "metadata": {},
   "outputs": [],
   "source": [
    "plt.figure(figsize=(20, 4))\n",
    "key_list = list(class_counter_train_dict.keys())\n",
    "\n",
    "for i, key in enumerate(key_list):\n",
    "    key_list[i] = key.replace('_', '\\n').replace(' ', '\\n')\n",
    "\n",
    "fig = plt.bar(key_list, class_counter_train_dict.values(), 0.8, color='g')\n",
    "fig = plt.bar(key_list, class_counter_valid_dict.values(), 0.8, color='r')\n",
    "\n",
    "plt.show()"
   ]
  },
  {
   "cell_type": "code",
   "execution_count": null,
   "metadata": {},
   "outputs": [],
   "source": [
    "os.makedirs('train', exist_ok=True)\n",
    "os.makedirs('valid', exist_ok=True)"
   ]
  },
  {
   "cell_type": "code",
   "execution_count": null,
   "metadata": {},
   "outputs": [],
   "source": [
    "key_list = list(class_counter_train_dict.keys())\n",
    "\n",
    "for key in key_list:\n",
    "    os.makedirs(os.path.join('train', key), exist_ok=True)\n",
    "    os.makedirs(os.path.join('valid', key), exist_ok=True)"
   ]
  },
  {
   "cell_type": "code",
   "execution_count": null,
   "metadata": {},
   "outputs": [],
   "source": [
    "local_train_metadata_path = 'local_train.txt'\n",
    "local_valid_metadata_path = 'local_valid.txt'\n",
    "\n",
    "def split_wav_file(metadata_path):\n",
    "    \n",
    "    with open(metadata_path, 'r') as file:\n",
    "\n",
    "        while True:\n",
    "            line = file.readline()\n",
    "\n",
    "            if line is None or len(line) == 0:\n",
    "                break\n",
    "\n",
    "            contents = line.split(',')\n",
    "            parent_path = contents[0].split('/')[0]\n",
    "            wav_name = contents[0].split('/')[-1]\n",
    "            \n",
    "            data, fs = librosa.core.load(os.path.join('../data', contents[0]), sr=None)\n",
    "            \n",
    "#             print('[MAX: {:10f} MIN: {:10f}]'.format(max(data), min(data)))\n",
    "            \n",
    "            label_string = contents[1].strip()\n",
    "\n",
    "            labels = label_string.split('|')\n",
    "            \n",
    "            print('[{}]'.format(contents[0]))\n",
    "            print('({:10d} ~ {:10d})'.format(int(0), len(data)))\n",
    "\n",
    "            for i, label in enumerate(labels):\n",
    "                (start, end, class_name) = label.split('^')\n",
    "                start_idx = int(float(start) * fs)\n",
    "                end_idx = int(float(end) * fs)\n",
    "                output_wav_name = wav_name.replace('.wav', '_{:02d}.wav'.format(i))\n",
    "                output_file_name = os.path.join(os.path.join(parent_path, class_name), output_wav_name)\n",
    "                \n",
    "                librosa.output.write_wav(output_file_name, data[start_idx:end_idx], fs)\n",
    "                print(output_file_name)\n",
    "                print('[{:10d} ~ {:10d}] [{}]'.format(start_idx, end_idx, class_name))\n",
    "                \n",
    "            print()\n",
    "                \n",
    "    return"
   ]
  },
  {
   "cell_type": "code",
   "execution_count": null,
   "metadata": {
    "scrolled": true
   },
   "outputs": [],
   "source": [
    "split_wav_file(local_valid_metadata_path)"
   ]
  }
 ],
 "metadata": {
  "kernelspec": {
   "display_name": "Python 3",
   "language": "python",
   "name": "python3"
  },
  "language_info": {
   "codemirror_mode": {
    "name": "ipython",
    "version": 3
   },
   "file_extension": ".py",
   "mimetype": "text/x-python",
   "name": "python",
   "nbconvert_exporter": "python",
   "pygments_lexer": "ipython3",
   "version": "3.7.5"
  }
 },
 "nbformat": 4,
 "nbformat_minor": 2
}
