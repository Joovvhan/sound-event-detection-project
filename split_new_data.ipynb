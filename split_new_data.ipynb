{
 "cells": [
  {
   "cell_type": "code",
   "execution_count": 38,
   "metadata": {},
   "outputs": [],
   "source": [
    "import os\n",
    "import glob\n",
    "import numpy as np\n",
    "import shutil"
   ]
  },
  {
   "cell_type": "code",
   "execution_count": 5,
   "metadata": {},
   "outputs": [],
   "source": [
    "os.makedirs('new_data/new_train', exist_ok=True)\n",
    "os.makedirs('new_data/new_valid', exist_ok=True)"
   ]
  },
  {
   "cell_type": "code",
   "execution_count": 9,
   "metadata": {},
   "outputs": [],
   "source": [
    "class_names = [file.replace('.wav', '') for file in os.listdir('new_data') if '.wav' in file]"
   ]
  },
  {
   "cell_type": "code",
   "execution_count": 10,
   "metadata": {},
   "outputs": [
    {
     "data": {
      "text/plain": [
       "['bird', 'fan', 'keyboard', 'bug', 'rain', 'jazz']"
      ]
     },
     "execution_count": 10,
     "metadata": {},
     "output_type": "execute_result"
    }
   ],
   "source": [
    "class_names"
   ]
  },
  {
   "cell_type": "code",
   "execution_count": 11,
   "metadata": {},
   "outputs": [],
   "source": [
    "for class_name in class_names:\n",
    "    os.makedirs(os.path.join('new_data/new_train', class_name), exist_ok=True)\n",
    "    os.makedirs(os.path.join('new_data/new_valid', class_name), exist_ok=True)"
   ]
  },
  {
   "cell_type": "code",
   "execution_count": 65,
   "metadata": {},
   "outputs": [],
   "source": [
    "for class_name in class_names:\n",
    "    file_list = glob.glob(os.path.join('new_data', class_name) + '/*.wav')\n",
    "    file_list.sort()\n",
    "    file_list = np.asarray(file_list)\n",
    "    \n",
    "    train_boolean_mask = np.asarray([False] * len(file_list))\n",
    "    train_idxs = np.random.choice(len(file_list), int(np.floor(len(file_list) * 0.75)), replace=False)\n",
    "    train_boolean_mask[train_idxs] = True\n",
    "    test_boolean_mask = np.logical_not(train_boolean_mask)\n",
    "    \n",
    "    train_file_list = file_list[train_boolean_mask]\n",
    "    test_file_list = file_list[test_boolean_mask]\n",
    "    \n",
    "    for file in train_file_list:\n",
    "        shutil.copyfile(file, file.replace('new_data', 'new_data/new_train'))\n",
    "        \n",
    "    for file in test_file_list:\n",
    "        shutil.copyfile(file, file.replace('new_data', 'new_data/new_valid'))\n"
   ]
  },
  {
   "cell_type": "code",
   "execution_count": null,
   "metadata": {},
   "outputs": [],
   "source": []
  }
 ],
 "metadata": {
  "kernelspec": {
   "display_name": "Python 3",
   "language": "python",
   "name": "python3"
  },
  "language_info": {
   "codemirror_mode": {
    "name": "ipython",
    "version": 3
   },
   "file_extension": ".py",
   "mimetype": "text/x-python",
   "name": "python",
   "nbconvert_exporter": "python",
   "pygments_lexer": "ipython3",
   "version": "3.7.5"
  }
 },
 "nbformat": 4,
 "nbformat_minor": 2
}
